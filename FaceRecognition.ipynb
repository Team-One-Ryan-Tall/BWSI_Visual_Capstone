{
 "cells": [
  {
   "cell_type": "code",
   "execution_count": 1,
   "metadata": {},
   "outputs": [],
   "source": [
    "\n",
    "%matplotlib widget\n",
    "from camera import take_picture\n",
    "import LoadImage\n",
    "import BoundedBox\n",
    "import Descriptors\n",
    "from Database import Database\n",
    "from facenet_models import FacenetModel"
   ]
  },
  {
   "cell_type": "code",
   "execution_count": 2,
   "metadata": {},
   "outputs": [],
   "source": [
    "\n",
    "model = FacenetModel()\n",
    "image = LoadImage.load_image(\"ryan.png\")\n",
    "load_dict = {\n",
    "    \"holland\" : 10,\n",
    "    \"downey\" : 10,\n",
    "    \"jungkook\" : 10,\n",
    "    \"kyrogious\": 10,\n",
    "    \"Ramsey\": 10\n",
    "}\n",
    "filepaths = LoadImage.filenames_from_dict(load_dict)\n",
    "\n",
    "# for path in filepaths:\n",
    "    # print(Descriptors.descriptors_from_file(path).shape)\n"
   ]
  },
  {
   "cell_type": "code",
   "execution_count": 3,
   "metadata": {},
   "outputs": [],
   "source": [
    "database = Database()\n",
    "descriptors = Descriptors.descriptors_from_file(\"ryan.png\")\n",
    "database.load_from_dict(load_dict)"
   ]
  },
  {
   "cell_type": "code",
   "execution_count": null,
   "metadata": {},
   "outputs": [],
   "source": [
    "print(database.database[\"holland\"].count)\n",
    "print(database.database[\"downey\"].count)\n",
    "print(database.database[\"jungkook\"].count)\n",
    "print(database.database[\"kyrogious\"].count)\n",
    "print(database.database[\"Ramsey\"].count)"
   ]
  },
  {
   "cell_type": "code",
   "execution_count": null,
   "metadata": {},
   "outputs": [],
   "source": [
    "descriptors = Descriptors.descriptors_from_file(\"images/Ramsey_1.jpg\")\n",
    "test_dict = {\n",
    "    \"test_downey\":  2,\n",
    "    \"test_ramsey\": 2,\n",
    "    \"test_kyrogious\": 2,\n",
    "    \"test_jungkook\": 2,\n",
    "    \"test_holland\": 2,\n",
    "    \"downey_similar\": 1,\n",
    "    \"ramsey_similar\": 1,\n",
    "    \"random_person\": 5    \n",
    "}\n",
    "test_paths = LoadImage.filenames_from_dict(test_dict, \"test_images\")\n",
    "for path in test_paths:\n",
    "    print(database.identify_face(Descriptors.descriptors_from_file(path)))\n",
    "    print()"
   ]
  },
  {
   "cell_type": "code",
   "execution_count": 1,
   "metadata": {},
   "outputs": [
    {
     "ename": "NameError",
     "evalue": "name 'LoadImage' is not defined",
     "output_type": "error",
     "traceback": [
      "\u001b[1;31m---------------------------------------------------------------------------\u001b[0m",
      "\u001b[1;31mNameError\u001b[0m                                 Traceback (most recent call last)",
      "\u001b[1;32mc:\\Users\\bouen\\Desktop\\Projects\\Programming\\Python\\BWSI\\Week2\\BWSI_Visual_Capstone\\FaceRecognition.ipynb Cell 6\u001b[0m in \u001b[0;36m<cell line: 4>\u001b[1;34m()\u001b[0m\n\u001b[0;32m      <a href='vscode-notebook-cell:/c%3A/Users/bouen/Desktop/Projects/Programming/Python/BWSI/Week2/BWSI_Visual_Capstone/FaceRecognition.ipynb#ch0000005?line=0'>1</a>\u001b[0m not_face_dict \u001b[39m=\u001b[39m  {\n\u001b[0;32m      <a href='vscode-notebook-cell:/c%3A/Users/bouen/Desktop/Projects/Programming/Python/BWSI/Week2/BWSI_Visual_Capstone/FaceRecognition.ipynb#ch0000005?line=1'>2</a>\u001b[0m     \u001b[39m\"\u001b[39m\u001b[39mnot_face\u001b[39m\u001b[39m\"\u001b[39m: \u001b[39m4\u001b[39m\n\u001b[0;32m      <a href='vscode-notebook-cell:/c%3A/Users/bouen/Desktop/Projects/Programming/Python/BWSI/Week2/BWSI_Visual_Capstone/FaceRecognition.ipynb#ch0000005?line=2'>3</a>\u001b[0m }\n\u001b[1;32m----> <a href='vscode-notebook-cell:/c%3A/Users/bouen/Desktop/Projects/Programming/Python/BWSI/Week2/BWSI_Visual_Capstone/FaceRecognition.ipynb#ch0000005?line=3'>4</a>\u001b[0m not_face_paths \u001b[39m=\u001b[39m LoadImage\u001b[39m.\u001b[39mfilenames_from_dict(not_face_dict, \u001b[39m\"\u001b[39m\u001b[39mtest_images\u001b[39m\u001b[39m\"\u001b[39m)\n\u001b[0;32m      <a href='vscode-notebook-cell:/c%3A/Users/bouen/Desktop/Projects/Programming/Python/BWSI/Week2/BWSI_Visual_Capstone/FaceRecognition.ipynb#ch0000005?line=4'>5</a>\u001b[0m \u001b[39mprint\u001b[39m(not_face_paths)\n\u001b[0;32m      <a href='vscode-notebook-cell:/c%3A/Users/bouen/Desktop/Projects/Programming/Python/BWSI/Week2/BWSI_Visual_Capstone/FaceRecognition.ipynb#ch0000005?line=5'>6</a>\u001b[0m \u001b[39mfor\u001b[39;00m path \u001b[39min\u001b[39;00m not_face_paths:\n",
      "\u001b[1;31mNameError\u001b[0m: name 'LoadImage' is not defined"
     ]
    }
   ],
   "source": [
    "not_face_dict =  {\n",
    "    \"not_face\": 4\n",
    "}\n",
    "not_face_paths = LoadImage.filenames_from_dict(not_face_dict, \"test_images\")\n",
    "print(not_face_paths)\n",
    "for path in not_face_paths:\n",
    "    BoundedBox.display_boxes(model, path)"
   ]
  }
 ],
 "metadata": {
  "kernelspec": {
   "display_name": "Python 3.8.13 ('week2')",
   "language": "python",
   "name": "python3"
  },
  "language_info": {
   "codemirror_mode": {
    "name": "ipython",
    "version": 3
   },
   "file_extension": ".py",
   "mimetype": "text/x-python",
   "name": "python",
   "nbconvert_exporter": "python",
   "pygments_lexer": "ipython3",
   "version": "3.8.13"
  },
  "orig_nbformat": 4,
  "vscode": {
   "interpreter": {
    "hash": "56c7af0b1fb0905ffdcdafd8d93357706a7a1f8ce4d6586a53e6219a1f87d877"
   }
  }
 },
 "nbformat": 4,
 "nbformat_minor": 2
}
