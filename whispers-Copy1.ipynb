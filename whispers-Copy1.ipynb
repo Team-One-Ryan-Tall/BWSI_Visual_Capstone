{
 "cells": [
  {
   "cell_type": "code",
   "execution_count": 1,
   "id": "8d735fef",
   "metadata": {},
   "outputs": [],
   "source": [
    "import numpy as np"
   ]
  },
  {
   "cell_type": "code",
   "execution_count": 2,
   "id": "86656126",
   "metadata": {},
   "outputs": [],
   "source": [
    "class Profile:\n",
    "    def __init__ (self, face_discriptors, name): \n",
    "        self.face_descriptors = face_discriptors\n",
    "        self.name = name\n",
    "    @property\n",
    "    def properties(self):\n",
    "        return (self.name, self.face_descriptors) "
   ]
  },
  {
   "cell_type": "code",
   "execution_count": 3,
   "id": "64e73764",
   "metadata": {},
   "outputs": [],
   "source": [
    "def cosine_distances(X, Y):\n",
    "    \"\"\"\n",
    "    Compute the cosine distance between each row of X and Y.\n",
    "    \"\"\"\n",
    "    if(len(X.shape) > 1):\n",
    "        X = np.average(X, axis=0)\n",
    "    if(len(Y.shape) > 1):\n",
    "        Y = np.average(Y, axis=0)\n",
    "    \n",
    "    return (1 - (np.dot(X, Y) / (np.linalg.norm(X) * np.linalg.norm(Y))))"
   ]
  },
  {
   "cell_type": "code",
   "execution_count": 4,
   "id": "63ae9db1",
   "metadata": {},
   "outputs": [],
   "source": [
    "import networkx as nx\n",
    "import numpy as np\n",
    "import matplotlib.cm as cm\n",
    "import matplotlib.pyplot as plt\n",
    "\n",
    "\n",
    "class Node:\n",
    "    \"\"\" Describes a node in a graph, and the edges connected\n",
    "        to that node.\"\"\"\n",
    "\n",
    "    def __init__(self, ID, neighbors, descriptor, truth=None, file_path=None):\n",
    "        \"\"\"\n",
    "        Parameters\n",
    "        ----------\n",
    "        ID : int\n",
    "            A unique identifier for this node. Should be a\n",
    "            value in [0, N-1], if there are N nodes in total.\n",
    "\n",
    "        neighbors : Sequence[int]\n",
    "            The node-IDs of the neighbors of this node.\n",
    "\n",
    "        descriptor : numpy.ndarray\n",
    "            The shape-(512,) descriptor vector for the face that this node corresponds to.\n",
    "\n",
    "        truth : Optional[str]\n",
    "            If you have truth data, for checking your clustering algorithm,\n",
    "            you can include the label to check your clusters at the end.\n",
    "            If this node corresponds to a picture of Ryan, this truth\n",
    "            value can just be \"Ryan\"\n",
    "\n",
    "        file_path : Optional[str]\n",
    "            The file path of the image corresponding to this node, so\n",
    "            that you can sort the photos after you run your clustering\n",
    "            algorithm\n",
    "        \"\"\"\n",
    "        self.id = ID  # a unique identified for this node - this should never change\n",
    "\n",
    "        # The node's label is initialized with the node's ID value at first,\n",
    "        # this label is then updated during the whispers algorithm\n",
    "        self.label = ID\n",
    "\n",
    "        # (n1_ID, n2_ID, ...)\n",
    "        # The IDs of this nodes neighbors. Empty if no neighbors\n",
    "        self.neighbors = tuple(neighbors)\n",
    "        self.descriptor = descriptor\n",
    "\n",
    "        self.truth = truth\n",
    "        self.file_path = file_path\n",
    "\n",
    "\n",
    "    def plot_graph(graph, adj):\n",
    "        \"\"\" Use the package networkx to produce a diagrammatic plot of the graph, with\n",
    "        the nodes in the graph colored according to their current labels.\n",
    "        Note that only 20 unique colors are available for the current color map,\n",
    "        so common colors across nodes may be coincidental.\n",
    "        Parameters\n",
    "        ----------\n",
    "        graph : Tuple[Node, ...]\n",
    "            The graph to plot. This is simple a tuple of the nodes in the graph.\n",
    "            Each element should be an instance of the `Node`-class.\n",
    "\n",
    "        adj : numpy.ndarray, shape=(N, N)\n",
    "            The adjacency-matrix for the graph. Nonzero entries indicate\n",
    "            the presence of edges.\n",
    "\n",
    "        Returns\n",
    "        -------\n",
    "        Tuple[matplotlib.fig.Fig, matplotlib.axis.Axes]\n",
    "            The figure and axes for the plot.\"\"\"\n",
    "\n",
    "        g = nx.Graph()\n",
    "        for n, node in enumerate(graph):\n",
    "            g.add_node(n)\n",
    "\n",
    "        # construct a network-x graph from the adjacency matrix: a non-zero entry at adj[i, j]\n",
    "        # indicates that an egde is present between Node-i and Node-j. Because the edges are\n",
    "        # undirected, the adjacency matrix must be symmetric, thus we only look ate the triangular\n",
    "        # upper-half of the entries to avoid adding redundant nodes/edges\n",
    "        g.add_edges_from(zip(*np.where(np.triu(adj) > 0)))\n",
    "\n",
    "        # we want to visualize our graph of nodes and edges; to give the graph a spatial representation,\n",
    "        # we treat each node as a point in 2D space, and edges like compressed springs. We simulate\n",
    "        # all of these springs decompressing (relaxing) to naturally space out the nodes of the graph\n",
    "        # this will hopefully give us a sensible (x, y) for each node, so that our graph is given\n",
    "        # a reasonable visual depiction\n",
    "        pos = nx.spring_layout(g)\n",
    "\n",
    "        # make a mapping that maps: node-lab -> color, for each unique label in the graph\n",
    "        color = list(iter(cm.tab20b(np.linspace(0, 1, len(set(i.label for i in graph))))))\n",
    "        color_map = dict(zip(sorted(set(i.label for i in graph)), color))\n",
    "        colors = [color_map[i.label] for i in graph]  # the color for each node in the graph, according to the node's label\n",
    "\n",
    "        # render the visualization of the graph, with the nodes colored based on their labels!\n",
    "        fig, ax = plt.subplots()\n",
    "        nx.draw_networkx_nodes(g, pos=pos, ax=ax, nodelist=range(len(graph)), node_color=colors)\n",
    "        nx.draw_networkx_edges(g, pos, ax=ax, edgelist=g.edges())\n",
    "        return fig, ax"
   ]
  },
  {
   "cell_type": "code",
   "execution_count": 5,
   "id": "45344f8c",
   "metadata": {},
   "outputs": [
    {
     "name": "stdout",
     "output_type": "stream",
     "text": [
      "0.32280045866804197\n"
     ]
    }
   ],
   "source": [
    "test1 = np.array([[3, 2, 1, 5]])\n",
    "test2 = np.array([30, 20, -1, 5])\n",
    "print(cosine_distances(test1, test2))"
   ]
  },
  {
   "cell_type": "code",
   "execution_count": 6,
   "id": "dc8fa617",
   "metadata": {},
   "outputs": [],
   "source": [
    "def neighbors(dv, other, labels):\n",
    "    neighbors = []\n",
    "    for i in range(len(other)):\n",
    "        \n",
    "        distance = cosine_distances(dv, other[i])\n",
    "        \n",
    "        if (0 < distance <= 0.6):\n",
    "            neighbors.append(labels[i])\n",
    "        \n",
    "            \n",
    "    return np.array(neighbors)\n",
    "\n",
    "def labels(dvs):\n",
    "    labels = []\n",
    "    count = 0\n",
    "    for dv in dvs:\n",
    "        labels.append(count)\n",
    "        count += 1\n",
    "        \n",
    "    return labels\n",
    "\n"
   ]
  },
  {
   "cell_type": "code",
   "execution_count": 18,
   "id": "f2e89cd3",
   "metadata": {},
   "outputs": [],
   "source": [
    "from Descriptors import descriptors_from_filestack\n",
    "from Descriptors import descriptors_from_file\n",
    "filepaths = [r\"C:\\Users\\BWSI-Student\\Downloads\\holland_1.jpg\", r\"C:\\Users\\BWSI-Student\\Downloads\\holland_2.jpg\", r\"C:\\Users\\BWSI-Student\\Downloads\\holland_3.jpg\", r\"C:\\Users\\BWSI-Student\\Downloads\\holland_5.jpg\", r\"C:\\Users\\BWSI-Student\\Downloads\\kyrogious_7.jpg\"]# r\"C:\\Users\\BWSI-Student\\Downloads\\kyrogious_8.jpg\"]\n",
    "dvs = descriptors_from_filestack(filepaths)"
   ]
  },
  {
   "cell_type": "code",
   "execution_count": 19,
   "id": "54d577be",
   "metadata": {},
   "outputs": [
    {
     "name": "stdout",
     "output_type": "stream",
     "text": [
      "(1, 2, 3)\n",
      "(0, 3)\n",
      "(0, 3)\n",
      "(0, 1, 2)\n",
      "()\n"
     ]
    }
   ],
   "source": [
    "lbls = labels(dvs)        \n",
    "nodes = []\n",
    "\n",
    "node0 = Node(lbls[0], neighbors(dvs[0], dvs, lbls), dvs[0], file_path= filepaths[0])\n",
    "node1 = Node(lbls[1], neighbors(dvs[1], dvs, lbls), dvs[1], file_path= filepaths[1])\n",
    "node2 = Node(lbls[2], neighbors(dvs[2], dvs, lbls), dvs[2], file_path= filepaths[2])\n",
    "node3 = Node(lbls[3], neighbors(dvs[3], dvs, lbls), dvs[3], file_path= filepaths[3])\n",
    "node4 = Node(lbls[4], neighbors(dvs[4], dvs, lbls), dvs[4], file_path= filepaths[4])\n",
    "#node5 = Node(lbls[5], neighbors(dvs[5], dvs, lbls), dvs[5], file_path= filepaths[5])\n",
    "\n",
    "\n",
    "nodes.append(node0)\n",
    "nodes.append(node1)\n",
    "nodes.append(node2)\n",
    "nodes.append(node3)\n",
    "nodes.append(node4)\n",
    "#nodes.append(node5)\n",
    "\n",
    "print(node0.neighbors)\n",
    "print(node1.neighbors)\n",
    "print(node2.neighbors)\n",
    "print(node3.neighbors)\n",
    "print(node4.neighbors)\n",
    "#print(node5.neighbors)"
   ]
  },
  {
   "cell_type": "code",
   "execution_count": 20,
   "id": "78ffc63f",
   "metadata": {},
   "outputs": [
    {
     "data": {
      "text/plain": [
       "array([[0., 1., 1., 1., 0.],\n",
       "       [1., 0., 0., 1., 0.],\n",
       "       [1., 0., 0., 1., 0.],\n",
       "       [1., 1., 1., 0., 0.],\n",
       "       [0., 0., 0., 0., 0.]])"
      ]
     },
     "execution_count": 20,
     "metadata": {},
     "output_type": "execute_result"
    }
   ],
   "source": [
    "def make_adj_unweighted(nodes):\n",
    "    adj_matrix = np.zeros((len(nodes), len(nodes)))\n",
    "    for i in range(len(nodes)):\n",
    "        adj_matrix[i, nodes[i].neighbors] = 1\n",
    "\n",
    "    return adj_matrix\n",
    "\n",
    "make_adj_unweighted(nodes)"
   ]
  },
  {
   "cell_type": "code",
   "execution_count": 21,
   "id": "67e8be24",
   "metadata": {},
   "outputs": [
    {
     "data": {
      "text/plain": [
       "array([[ 0.        , 16.0577655 ,  2.81023528,  6.9735807 ,  0.        ],\n",
       "       [16.0577655 ,  0.        ,  0.        ,  7.88987334,  0.        ],\n",
       "       [ 2.81023528,  0.        ,  0.        ,  4.0584864 ,  0.        ],\n",
       "       [ 6.9735807 ,  7.88987334,  4.0584864 ,  0.        ,  0.        ],\n",
       "       [ 0.        ,  0.        ,  0.        ,  0.        ,  0.        ]])"
      ]
     },
     "execution_count": 21,
     "metadata": {},
     "output_type": "execute_result"
    }
   ],
   "source": [
    "def make_adj_weighted(nodes):\n",
    "    adj_matrix = np.zeros((len(nodes), len(nodes)))\n",
    "    for i in range(len(nodes)):\n",
    "        for neighbr in nodes[i].neighbors: \n",
    "            adj_matrix[i, neighbr] = 1/(cosine_distances(nodes[i].descriptor, nodes[neighbr].descriptor) ** 2)\n",
    "\n",
    "    return adj_matrix\n",
    "\n",
    "make_adj_weighted(nodes)"
   ]
  },
  {
   "cell_type": "code",
   "execution_count": 22,
   "id": "9c5efe6b",
   "metadata": {},
   "outputs": [],
   "source": [
    "import random\n",
    "\n",
    "def run_whispers(rand_nodes, adj_matrix):\n",
    "    Node.plot_graph(nodes, adj_matrix)\n",
    "    for _ in range(100):\n",
    "        current = random.choice(rand_nodes)\n",
    "        whispers(rand_nodes, current, current.neighbors, adj_matrix)\n",
    "        \n",
    "    Node.plot_graph(nodes, adj_matrix) \n",
    "\n",
    "    \n",
    "def whispers(rand_nodes, node, neighbors, adj_matrix):\n",
    "    m = 0\n",
    "    index = -1\n",
    "    for neighbor in node.neighbors:\n",
    "        if (m < adj_matrix[node.id, neighbor]):\n",
    "            m = adj_matrix[node.id, neighbor]\n",
    "            index = neighbor\n",
    "    \n",
    "    if (index != -1):\n",
    "        node.label = rand_nodes[index].label"
   ]
  },
  {
   "cell_type": "code",
   "execution_count": 23,
   "id": "4aded7a8",
   "metadata": {},
   "outputs": [
    {
     "data": {
      "image/png": "[encoded data removed]",
      "text/plain": [
       "<Figure size 432x288 with 1 Axes>"
      ]
     },
     "metadata": {},
     "output_type": "display_data"
    },
    {
     "data": {
      "image/png": "[encoded data removed]",
      "text/plain": [
       "<Figure size 432x288 with 1 Axes>"
      ]
     },
     "metadata": {},
     "output_type": "display_data"
    }
   ],
   "source": [
    "run_whispers(nodes, make_adj_weighted(nodes))"
   ]
  },
  {
   "cell_type": "code",
   "execution_count": null,
   "id": "bccca7ce",
   "metadata": {},
   "outputs": [],
   "source": []
  }
 ],
 "metadata": {
  "kernelspec": {
   "display_name": "Python 3 (ipykernel)",
   "language": "python",
   "name": "python3"
  },
  "language_info": {
   "codemirror_mode": {
    "name": "ipython",
    "version": 3
   },
   "file_extension": ".py",
   "mimetype": "text/x-python",
   "name": "python",
   "nbconvert_exporter": "python",
   "pygments_lexer": "ipython3",
   "version": "3.8.13"
  }
 },
 "nbformat": 4,
 "nbformat_minor": 5
}
