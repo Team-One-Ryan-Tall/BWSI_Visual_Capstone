{
 "cells": [
  {
   "cell_type": "code",
   "execution_count": 12,
   "id": "8799479f",
   "metadata": {},
   "outputs": [],
   "source": [
    "class Profile:\n",
    "    def __init__ (self, face_discriptors, name): \n",
    "        self.face_descriptors = face_discriptors\n",
    "        self.name = name\n",
    "    @property\n",
    "    def properties(self):\n",
    "        return (self.name, self.face_descriptors) \n",
    "    \n",
    "\n",
    "\n"
   ]
  },
  {
   "cell_type": "code",
   "execution_count": null,
   "id": "41ad9dbf",
   "metadata": {},
   "outputs": [],
   "source": []
  }
 ],
 "metadata": {
  "kernelspec": {
   "display_name": "Python 3 (ipykernel)",
   "language": "python",
   "name": "python3"
  },
  "language_info": {
   "codemirror_mode": {
    "name": "ipython",
    "version": 3
   },
   "file_extension": ".py",
   "mimetype": "text/x-python",
   "name": "python",
   "nbconvert_exporter": "python",
   "pygments_lexer": "ipython3",
   "version": "3.8.13"
  }
 },
 "nbformat": 4,
 "nbformat_minor": 5
}
